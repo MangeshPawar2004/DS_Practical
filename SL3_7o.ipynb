{
 "cells": [
  {
   "cell_type": "code",
   "execution_count": 29,
   "id": "b67b1adc-7dd5-4a2c-8ae3-006bd7e19ec4",
   "metadata": {},
   "outputs": [],
   "source": [
    "import numpy as np\n",
    "import nltk\n",
    "import pandas as pd\n",
    "from nltk.tokenize import word_tokenize\n",
    "from nltk.corpus import stopwords\n",
    "from nltk.stem import PorterStemmer, WordNetLemmatizer\n"
   ]
  },
  {
   "cell_type": "code",
   "execution_count": 30,
   "id": "02fe170b-2f07-4592-bf25-ae6874280f06",
   "metadata": {},
   "outputs": [],
   "source": [
    "text=['''Data science is an interdisciplinary academic field[1] that uses statistics, scientific computing, scientific methods, processing, scientific visualization, algorithms and systems to extract or extrapolate knowledge from potentially noisy, structured, or unstructured data.[2]\n",
    "\n",
    "Data science also integrates domain knowledge from the underlying application domain (e.g., natural sciences, information technology, and medicine).[3] Data science is multifaceted and can be described as a science, a research paradigm, a research method, a discipline, a workflow, and a profession.[4]\n",
    "\n",
    "Data science is \"a concept to unify statistics, data analysis, informatics, and their related methods\" to \"understand and analyze actual phenomena\" with data.[5] It uses techniques and theories drawn from many fields within the context of mathematics, statistics, computer science, information science, and domain knowledge.[6] However, data science is different from computer science and information science. Turing Award winner Jim Gray imagined data science as a \"fourth paradigm\" of science (empirical, theoretical, computational, and now data-driven) and asserted that \"everything about science is changing because of the impact of information technology\" and the data deluge.[7][8]\n",
    "\n",
    "A data scientist is a professional who creates programming code and combines it with statistical knowledge to summarize data.[9]''']"
   ]
  },
  {
   "cell_type": "markdown",
   "id": "9c7d5abb-7196-46cb-bd9a-3ce658e0d235",
   "metadata": {},
   "source": [
    "## Tokenization"
   ]
  },
  {
   "cell_type": "code",
   "execution_count": 31,
   "id": "ead68974-dd38-4030-8200-f4f9698ac2c7",
   "metadata": {},
   "outputs": [
    {
     "name": "stdout",
     "output_type": "stream",
     "text": [
      "Tokens: [['data', 'science', 'is', 'an', 'interdisciplinary', 'academic', 'field', '[', '1', ']', 'that', 'uses', 'statistics', ',', 'scientific', 'computing', ',', 'scientific', 'methods', ',', 'processing', ',', 'scientific', 'visualization', ',', 'algorithms', 'and', 'systems', 'to', 'extract', 'or', 'extrapolate', 'knowledge', 'from', 'potentially', 'noisy', ',', 'structured', ',', 'or', 'unstructured', 'data', '.', '[', '2', ']', 'data', 'science', 'also', 'integrates', 'domain', 'knowledge', 'from', 'the', 'underlying', 'application', 'domain', '(', 'e.g.', ',', 'natural', 'sciences', ',', 'information', 'technology', ',', 'and', 'medicine', ')', '.', '[', '3', ']', 'data', 'science', 'is', 'multifaceted', 'and', 'can', 'be', 'described', 'as', 'a', 'science', ',', 'a', 'research', 'paradigm', ',', 'a', 'research', 'method', ',', 'a', 'discipline', ',', 'a', 'workflow', ',', 'and', 'a', 'profession', '.', '[', '4', ']', 'data', 'science', 'is', '``', 'a', 'concept', 'to', 'unify', 'statistics', ',', 'data', 'analysis', ',', 'informatics', ',', 'and', 'their', 'related', 'methods', \"''\", 'to', '``', 'understand', 'and', 'analyze', 'actual', 'phenomena', \"''\", 'with', 'data', '.', '[', '5', ']', 'it', 'uses', 'techniques', 'and', 'theories', 'drawn', 'from', 'many', 'fields', 'within', 'the', 'context', 'of', 'mathematics', ',', 'statistics', ',', 'computer', 'science', ',', 'information', 'science', ',', 'and', 'domain', 'knowledge', '.', '[', '6', ']', 'however', ',', 'data', 'science', 'is', 'different', 'from', 'computer', 'science', 'and', 'information', 'science', '.', 'turing', 'award', 'winner', 'jim', 'gray', 'imagined', 'data', 'science', 'as', 'a', '``', 'fourth', 'paradigm', \"''\", 'of', 'science', '(', 'empirical', ',', 'theoretical', ',', 'computational', ',', 'and', 'now', 'data-driven', ')', 'and', 'asserted', 'that', '``', 'everything', 'about', 'science', 'is', 'changing', 'because', 'of', 'the', 'impact', 'of', 'information', 'technology', \"''\", 'and', 'the', 'data', 'deluge', '.', '[', '7', ']', '[', '8', ']', 'a', 'data', 'scientist', 'is', 'a', 'professional', 'who', 'creates', 'programming', 'code', 'and', 'combines', 'it', 'with', 'statistical', 'knowledge', 'to', 'summarize', 'data', '.', '[', '9', ']']]\n"
     ]
    }
   ],
   "source": [
    "tokens=[word_tokenize(t.lower()) for t in text]\n",
    "\n",
    "print(f'Tokens: {tokens}')"
   ]
  },
  {
   "cell_type": "markdown",
   "id": "6d2fb2f4-39e0-4257-aba4-7de430aef836",
   "metadata": {},
   "source": [
    "## POS Tagging"
   ]
  },
  {
   "cell_type": "code",
   "execution_count": 32,
   "id": "29c20c65-0098-49bc-be2e-990512f8edad",
   "metadata": {},
   "outputs": [
    {
     "name": "stdout",
     "output_type": "stream",
     "text": [
      "Pos-Tagging: [[('data', 'NNS'), ('science', 'NN'), ('is', 'VBZ'), ('an', 'DT'), ('interdisciplinary', 'JJ'), ('academic', 'JJ'), ('field', 'NN'), ('[', 'VBD'), ('1', 'CD'), (']', 'NN'), ('that', 'WDT'), ('uses', 'VBZ'), ('statistics', 'NNS'), (',', ','), ('scientific', 'JJ'), ('computing', 'NN'), (',', ','), ('scientific', 'JJ'), ('methods', 'NNS'), (',', ','), ('processing', 'NN'), (',', ','), ('scientific', 'JJ'), ('visualization', 'NN'), (',', ','), ('algorithms', 'NN'), ('and', 'CC'), ('systems', 'NNS'), ('to', 'TO'), ('extract', 'VB'), ('or', 'CC'), ('extrapolate', 'VB'), ('knowledge', 'NN'), ('from', 'IN'), ('potentially', 'RB'), ('noisy', 'JJ'), (',', ','), ('structured', 'JJ'), (',', ','), ('or', 'CC'), ('unstructured', 'JJ'), ('data', 'NNS'), ('.', '.'), ('[', '$'), ('2', 'CD'), (']', 'NNP'), ('data', 'NNS'), ('science', 'NN'), ('also', 'RB'), ('integrates', 'VBZ'), ('domain', 'VBP'), ('knowledge', 'NN'), ('from', 'IN'), ('the', 'DT'), ('underlying', 'VBG'), ('application', 'NN'), ('domain', 'NN'), ('(', '('), ('e.g.', 'NN'), (',', ','), ('natural', 'JJ'), ('sciences', 'NNS'), (',', ','), ('information', 'NN'), ('technology', 'NN'), (',', ','), ('and', 'CC'), ('medicine', 'NN'), (')', ')'), ('.', '.'), ('[', '$'), ('3', 'CD'), (']', 'NNP'), ('data', 'NNS'), ('science', 'NN'), ('is', 'VBZ'), ('multifaceted', 'VBN'), ('and', 'CC'), ('can', 'MD'), ('be', 'VB'), ('described', 'VBN'), ('as', 'IN'), ('a', 'DT'), ('science', 'NN'), (',', ','), ('a', 'DT'), ('research', 'NN'), ('paradigm', 'NN'), (',', ','), ('a', 'DT'), ('research', 'NN'), ('method', 'NN'), (',', ','), ('a', 'DT'), ('discipline', 'NN'), (',', ','), ('a', 'DT'), ('workflow', 'NN'), (',', ','), ('and', 'CC'), ('a', 'DT'), ('profession', 'NN'), ('.', '.'), ('[', 'CC'), ('4', 'CD'), (']', 'NN'), ('data', 'NNS'), ('science', 'NN'), ('is', 'VBZ'), ('``', '``'), ('a', 'DT'), ('concept', 'NN'), ('to', 'TO'), ('unify', 'VB'), ('statistics', 'NNS'), (',', ','), ('data', 'NNS'), ('analysis', 'NN'), (',', ','), ('informatics', 'NNS'), (',', ','), ('and', 'CC'), ('their', 'PRP$'), ('related', 'JJ'), ('methods', 'NNS'), (\"''\", \"''\"), ('to', 'TO'), ('``', '``'), ('understand', 'VB'), ('and', 'CC'), ('analyze', 'VB'), ('actual', 'JJ'), ('phenomena', 'NNS'), (\"''\", \"''\"), ('with', 'IN'), ('data', 'NNS'), ('.', '.'), ('[', '$'), ('5', 'CD'), (']', 'NN'), ('it', 'PRP'), ('uses', 'VBZ'), ('techniques', 'NNS'), ('and', 'CC'), ('theories', 'NNS'), ('drawn', 'VBP'), ('from', 'IN'), ('many', 'JJ'), ('fields', 'NNS'), ('within', 'IN'), ('the', 'DT'), ('context', 'NN'), ('of', 'IN'), ('mathematics', 'NNS'), (',', ','), ('statistics', 'NNS'), (',', ','), ('computer', 'NN'), ('science', 'NN'), (',', ','), ('information', 'NN'), ('science', 'NN'), (',', ','), ('and', 'CC'), ('domain', 'NN'), ('knowledge', 'NN'), ('.', '.'), ('[', 'CC'), ('6', 'CD'), (']', 'NN'), ('however', 'RB'), (',', ','), ('data', 'NNS'), ('science', 'NN'), ('is', 'VBZ'), ('different', 'JJ'), ('from', 'IN'), ('computer', 'NN'), ('science', 'NN'), ('and', 'CC'), ('information', 'NN'), ('science', 'NN'), ('.', '.'), ('turing', 'VBG'), ('award', 'JJ'), ('winner', 'NN'), ('jim', 'NN'), ('gray', 'NN'), ('imagined', 'VBD'), ('data', 'NNS'), ('science', 'NN'), ('as', 'IN'), ('a', 'DT'), ('``', '``'), ('fourth', 'JJ'), ('paradigm', 'NN'), (\"''\", \"''\"), ('of', 'IN'), ('science', 'NN'), ('(', '('), ('empirical', 'JJ'), (',', ','), ('theoretical', 'JJ'), (',', ','), ('computational', 'JJ'), (',', ','), ('and', 'CC'), ('now', 'RB'), ('data-driven', 'JJ'), (')', ')'), ('and', 'CC'), ('asserted', 'VBD'), ('that', 'IN'), ('``', '``'), ('everything', 'NN'), ('about', 'IN'), ('science', 'NN'), ('is', 'VBZ'), ('changing', 'VBG'), ('because', 'IN'), ('of', 'IN'), ('the', 'DT'), ('impact', 'NN'), ('of', 'IN'), ('information', 'NN'), ('technology', 'NN'), (\"''\", \"''\"), ('and', 'CC'), ('the', 'DT'), ('data', 'NNS'), ('deluge', 'NN'), ('.', '.'), ('[', 'CC'), ('7', 'CD'), (']', 'JJ'), ('[', '$'), ('8', 'CD'), (']', 'CC'), ('a', 'DT'), ('data', 'NN'), ('scientist', 'NN'), ('is', 'VBZ'), ('a', 'DT'), ('professional', 'JJ'), ('who', 'WP'), ('creates', 'VBZ'), ('programming', 'VBG'), ('code', 'NN'), ('and', 'CC'), ('combines', 'NNS'), ('it', 'PRP'), ('with', 'IN'), ('statistical', 'JJ'), ('knowledge', 'NN'), ('to', 'TO'), ('summarize', 'VB'), ('data', 'NNS'), ('.', '.'), ('[', '$'), ('9', 'CD'), (']', 'NN')]]\n"
     ]
    }
   ],
   "source": [
    "pos_tags=[nltk.pos_tag(token) for token in tokens]\n",
    "\n",
    "print(f'Pos-Tagging: {pos_tags}')"
   ]
  },
  {
   "cell_type": "markdown",
   "id": "329e1a0f-0fbb-40c3-97f8-a1c2a99ac58a",
   "metadata": {},
   "source": [
    "## Stop Word Removal"
   ]
  },
  {
   "cell_type": "code",
   "execution_count": 33,
   "id": "33075efc-4968-4e90-9347-402fbee32a30",
   "metadata": {},
   "outputs": [
    {
     "name": "stdout",
     "output_type": "stream",
     "text": [
      "Tokens after stop words removal: [['data', 'science', 'interdisciplinary', 'academic', 'field', '1', 'uses', 'statistics', 'scientific', 'computing', 'scientific', 'methods', 'processing', 'scientific', 'visualization', 'algorithms', 'systems', 'extract', 'extrapolate', 'knowledge', 'potentially', 'noisy', 'structured', 'unstructured', 'data', '2', 'data', 'science', 'also', 'integrates', 'domain', 'knowledge', 'underlying', 'application', 'domain', 'e.g.', 'natural', 'sciences', 'information', 'technology', 'medicine', '3', 'data', 'science', 'multifaceted', 'described', 'science', 'research', 'paradigm', 'research', 'method', 'discipline', 'workflow', 'profession', '4', 'data', 'science', '``', 'concept', 'unify', 'statistics', 'data', 'analysis', 'informatics', 'related', 'methods', \"''\", '``', 'understand', 'analyze', 'actual', 'phenomena', \"''\", 'data', '5', 'uses', 'techniques', 'theories', 'drawn', 'many', 'fields', 'within', 'context', 'mathematics', 'statistics', 'computer', 'science', 'information', 'science', 'domain', 'knowledge', '6', 'however', 'data', 'science', 'different', 'computer', 'science', 'information', 'science', 'turing', 'award', 'winner', 'jim', 'gray', 'imagined', 'data', 'science', '``', 'fourth', 'paradigm', \"''\", 'science', 'empirical', 'theoretical', 'computational', 'data-driven', 'asserted', '``', 'everything', 'science', 'changing', 'impact', 'information', 'technology', \"''\", 'data', 'deluge', '7', '8', 'data', 'scientist', 'professional', 'creates', 'programming', 'code', 'combines', 'statistical', 'knowledge', 'summarize', 'data', '9']]\n"
     ]
    }
   ],
   "source": [
    "import string\n",
    "\n",
    "stop_words = set(stopwords.words(\"english\"))\n",
    "\n",
    "no_stop_word = [[word for word in token_list if word not in stop_words and word not in string.punctuation] for token_list in tokens]\n",
    "print(\"Tokens after stop words removal:\", no_stop_word)\n"
   ]
  },
  {
   "cell_type": "markdown",
   "id": "b501d091-0902-4261-b49f-a2da43723ac9",
   "metadata": {},
   "source": [
    "## Stemming"
   ]
  },
  {
   "cell_type": "code",
   "execution_count": 34,
   "id": "c654bf1d-3eb3-4fd2-aa07-4fe22c92aae1",
   "metadata": {},
   "outputs": [
    {
     "name": "stdout",
     "output_type": "stream",
     "text": [
      "Stemming Token:  [['data', 'scienc', 'is', 'an', 'interdisciplinari', 'academ', 'field', '[', '1', ']', 'that', 'use', 'statist', ',', 'scientif', 'comput', ',', 'scientif', 'method', ',', 'process', ',', 'scientif', 'visual', ',', 'algorithm', 'and', 'system', 'to', 'extract', 'or', 'extrapol', 'knowledg', 'from', 'potenti', 'noisi', ',', 'structur', ',', 'or', 'unstructur', 'data', '.', '[', '2', ']', 'data', 'scienc', 'also', 'integr', 'domain', 'knowledg', 'from', 'the', 'underli', 'applic', 'domain', '(', 'e.g.', ',', 'natur', 'scienc', ',', 'inform', 'technolog', ',', 'and', 'medicin', ')', '.', '[', '3', ']', 'data', 'scienc', 'is', 'multifacet', 'and', 'can', 'be', 'describ', 'as', 'a', 'scienc', ',', 'a', 'research', 'paradigm', ',', 'a', 'research', 'method', ',', 'a', 'disciplin', ',', 'a', 'workflow', ',', 'and', 'a', 'profess', '.', '[', '4', ']', 'data', 'scienc', 'is', '``', 'a', 'concept', 'to', 'unifi', 'statist', ',', 'data', 'analysi', ',', 'informat', ',', 'and', 'their', 'relat', 'method', \"''\", 'to', '``', 'understand', 'and', 'analyz', 'actual', 'phenomena', \"''\", 'with', 'data', '.', '[', '5', ']', 'it', 'use', 'techniqu', 'and', 'theori', 'drawn', 'from', 'mani', 'field', 'within', 'the', 'context', 'of', 'mathemat', ',', 'statist', ',', 'comput', 'scienc', ',', 'inform', 'scienc', ',', 'and', 'domain', 'knowledg', '.', '[', '6', ']', 'howev', ',', 'data', 'scienc', 'is', 'differ', 'from', 'comput', 'scienc', 'and', 'inform', 'scienc', '.', 'ture', 'award', 'winner', 'jim', 'gray', 'imagin', 'data', 'scienc', 'as', 'a', '``', 'fourth', 'paradigm', \"''\", 'of', 'scienc', '(', 'empir', ',', 'theoret', ',', 'comput', ',', 'and', 'now', 'data-driven', ')', 'and', 'assert', 'that', '``', 'everyth', 'about', 'scienc', 'is', 'chang', 'becaus', 'of', 'the', 'impact', 'of', 'inform', 'technolog', \"''\", 'and', 'the', 'data', 'delug', '.', '[', '7', ']', '[', '8', ']', 'a', 'data', 'scientist', 'is', 'a', 'profession', 'who', 'creat', 'program', 'code', 'and', 'combin', 'it', 'with', 'statist', 'knowledg', 'to', 'summar', 'data', '.', '[', '9', ']']]\n"
     ]
    }
   ],
   "source": [
    "stemmer=PorterStemmer()\n",
    "stemmed_tokens=[[stemmer.stem(words) for words in token] for token in tokens]\n",
    "print(\"Stemming Token: \",stemmed_tokens)"
   ]
  },
  {
   "cell_type": "markdown",
   "id": "45ebe88b-8541-4de3-aec9-45f838f2e637",
   "metadata": {},
   "source": [
    "## Lemmatization"
   ]
  },
  {
   "cell_type": "code",
   "execution_count": 35,
   "id": "fc822099-bed0-445b-93ce-e8b19ea4512a",
   "metadata": {},
   "outputs": [
    {
     "name": "stdout",
     "output_type": "stream",
     "text": [
      "Lemmatized Tokens: [['data', 'science', 'is', 'an', 'interdisciplinary', 'academic', 'field', '[', '1', ']', 'that', 'us', 'statistic', ',', 'scientific', 'computing', ',', 'scientific', 'method', ',', 'processing', ',', 'scientific', 'visualization', ',', 'algorithm', 'and', 'system', 'to', 'extract', 'or', 'extrapolate', 'knowledge', 'from', 'potentially', 'noisy', ',', 'structured', ',', 'or', 'unstructured', 'data', '.', '[', '2', ']', 'data', 'science', 'also', 'integrates', 'domain', 'knowledge', 'from', 'the', 'underlying', 'application', 'domain', '(', 'e.g.', ',', 'natural', 'science', ',', 'information', 'technology', ',', 'and', 'medicine', ')', '.', '[', '3', ']', 'data', 'science', 'is', 'multifaceted', 'and', 'can', 'be', 'described', 'a', 'a', 'science', ',', 'a', 'research', 'paradigm', ',', 'a', 'research', 'method', ',', 'a', 'discipline', ',', 'a', 'workflow', ',', 'and', 'a', 'profession', '.', '[', '4', ']', 'data', 'science', 'is', '``', 'a', 'concept', 'to', 'unify', 'statistic', ',', 'data', 'analysis', ',', 'informatics', ',', 'and', 'their', 'related', 'method', \"''\", 'to', '``', 'understand', 'and', 'analyze', 'actual', 'phenomenon', \"''\", 'with', 'data', '.', '[', '5', ']', 'it', 'us', 'technique', 'and', 'theory', 'drawn', 'from', 'many', 'field', 'within', 'the', 'context', 'of', 'mathematics', ',', 'statistic', ',', 'computer', 'science', ',', 'information', 'science', ',', 'and', 'domain', 'knowledge', '.', '[', '6', ']', 'however', ',', 'data', 'science', 'is', 'different', 'from', 'computer', 'science', 'and', 'information', 'science', '.', 'turing', 'award', 'winner', 'jim', 'gray', 'imagined', 'data', 'science', 'a', 'a', '``', 'fourth', 'paradigm', \"''\", 'of', 'science', '(', 'empirical', ',', 'theoretical', ',', 'computational', ',', 'and', 'now', 'data-driven', ')', 'and', 'asserted', 'that', '``', 'everything', 'about', 'science', 'is', 'changing', 'because', 'of', 'the', 'impact', 'of', 'information', 'technology', \"''\", 'and', 'the', 'data', 'deluge', '.', '[', '7', ']', '[', '8', ']', 'a', 'data', 'scientist', 'is', 'a', 'professional', 'who', 'creates', 'programming', 'code', 'and', 'combine', 'it', 'with', 'statistical', 'knowledge', 'to', 'summarize', 'data', '.', '[', '9', ']']]\n"
     ]
    }
   ],
   "source": [
    "lemmatizer = WordNetLemmatizer()\n",
    "lemmatized_tokens = [[lemmatizer.lemmatize(word) for word in token] for token in tokens]\n",
    "print(\"Lemmatized Tokens:\", lemmatized_tokens)"
   ]
  },
  {
   "cell_type": "markdown",
   "id": "bd57ab90-84b8-44e0-9150-8488becf6b5a",
   "metadata": {},
   "source": [
    "## Term frequence and Inverse Document frequency"
   ]
  },
  {
   "cell_type": "code",
   "execution_count": 36,
   "id": "150a3d08-502e-487e-a255-2895780b81e5",
   "metadata": {},
   "outputs": [
    {
     "data": {
      "text/plain": [
       "array(['about', 'academic', 'actual', 'algorithms', 'also', 'an',\n",
       "       'analysis', 'analyze', 'and', 'application', 'as', 'asserted',\n",
       "       'award', 'be', 'because', 'can', 'changing', 'code', 'combines',\n",
       "       'computational', 'computer', 'computing', 'concept', 'context',\n",
       "       'creates', 'data', 'deluge', 'described', 'different',\n",
       "       'discipline', 'domain', 'drawn', 'driven', 'empirical',\n",
       "       'everything', 'extract', 'extrapolate', 'field', 'fields',\n",
       "       'fourth', 'from', 'gray', 'however', 'imagined', 'impact',\n",
       "       'informatics', 'information', 'integrates', 'interdisciplinary',\n",
       "       'is', 'it', 'jim', 'knowledge', 'many', 'mathematics', 'medicine',\n",
       "       'method', 'methods', 'multifaceted', 'natural', 'noisy', 'now',\n",
       "       'of', 'or', 'paradigm', 'phenomena', 'potentially', 'processing',\n",
       "       'profession', 'professional', 'programming', 'related', 'research',\n",
       "       'science', 'sciences', 'scientific', 'scientist', 'statistical',\n",
       "       'statistics', 'structured', 'summarize', 'systems', 'techniques',\n",
       "       'technology', 'that', 'the', 'their', 'theoretical', 'theories',\n",
       "       'to', 'turing', 'underlying', 'understand', 'unify',\n",
       "       'unstructured', 'uses', 'visualization', 'who', 'winner', 'with',\n",
       "       'within', 'workflow'], dtype=object)"
      ]
     },
     "execution_count": 36,
     "metadata": {},
     "output_type": "execute_result"
    }
   ],
   "source": [
    "from sklearn.feature_extraction.text import TfidfVectorizer\n",
    "\n",
    "vectorizer = TfidfVectorizer()\n",
    "X=vectorizer.fit_transform(text)\n",
    "vectorizer.get_feature_names_out()"
   ]
  },
  {
   "cell_type": "code",
   "execution_count": 37,
   "id": "729498b6-c221-47a5-a0ea-449c24e72df1",
   "metadata": {},
   "outputs": [
    {
     "name": "stdout",
     "output_type": "stream",
     "text": [
      "TF-IDF Representation:\n",
      "      about  academic    actual  algorithm      also        an  analysis  \\\n",
      "0  0.035007  0.035007  0.035007   0.035007  0.035007  0.035007  0.035007   \n",
      "\n",
      "    analyze       and  application  ...  understand     unify  unstructured  \\\n",
      "0  0.035007  0.455091     0.035007  ...    0.035007  0.035007      0.035007   \n",
      "\n",
      "         us  visualization       who    winner      with    within  workflow  \n",
      "0  0.070014       0.035007  0.035007  0.035007  0.070014  0.035007  0.035007  \n",
      "\n",
      "[1 rows x 98 columns]\n"
     ]
    }
   ],
   "source": [
    "\n",
    "\n",
    "tfidf_vectorizer = TfidfVectorizer()\n",
    "tfidf_matrix = tfidf_vectorizer.fit_transform([\" \".join(doc) for doc in lemmatized_tokens])\n",
    "feature_names = tfidf_vectorizer.get_feature_names_out()\n",
    "tfidf_df = pd.DataFrame(tfidf_matrix.toarray(), columns=feature_names)\n",
    "\n",
    "print(\"TF-IDF Representation:\")\n",
    "print(tfidf_df)\n"
   ]
  }
 ],
 "metadata": {
  "kernelspec": {
   "display_name": "Python 3 (ipykernel)",
   "language": "python",
   "name": "python3"
  },
  "language_info": {
   "codemirror_mode": {
    "name": "ipython",
    "version": 3
   },
   "file_extension": ".py",
   "mimetype": "text/x-python",
   "name": "python",
   "nbconvert_exporter": "python",
   "pygments_lexer": "ipython3",
   "version": "3.11.0"
  }
 },
 "nbformat": 4,
 "nbformat_minor": 5
}
